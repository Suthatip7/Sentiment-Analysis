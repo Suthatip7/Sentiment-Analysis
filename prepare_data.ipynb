{
 "cells": [
  {
   "cell_type": "code",
   "execution_count": 1,
   "metadata": {},
   "outputs": [],
   "source": [
    "import pandas as pd\n",
    "import numpy as np \n",
    "import seaborn as sns\n",
    "sns.set(style='darkgrid', font_scale=1.4)"
   ]
  },
  {
   "cell_type": "code",
   "execution_count": 2,
   "metadata": {},
   "outputs": [],
   "source": [
    "skilllane = pd.read_csv('skilllane.csv')\n",
    "skooldio = pd.read_csv('skooldio.csv')"
   ]
  },
  {
   "cell_type": "code",
   "execution_count": 3,
   "metadata": {},
   "outputs": [
    {
     "data": {
      "text/html": [
       "<div>\n",
       "<style scoped>\n",
       "    .dataframe tbody tr th:only-of-type {\n",
       "        vertical-align: middle;\n",
       "    }\n",
       "\n",
       "    .dataframe tbody tr th {\n",
       "        vertical-align: top;\n",
       "    }\n",
       "\n",
       "    .dataframe thead th {\n",
       "        text-align: right;\n",
       "    }\n",
       "</style>\n",
       "<table border=\"1\" class=\"dataframe\">\n",
       "  <thead>\n",
       "    <tr style=\"text-align: right;\">\n",
       "      <th></th>\n",
       "      <th>comments</th>\n",
       "      <th>stars</th>\n",
       "    </tr>\n",
       "  </thead>\n",
       "  <tbody>\n",
       "    <tr>\n",
       "      <th>0</th>\n",
       "      <td>NaN</td>\n",
       "      <td>5</td>\n",
       "    </tr>\n",
       "    <tr>\n",
       "      <th>1</th>\n",
       "      <td>NaN</td>\n",
       "      <td>5</td>\n",
       "    </tr>\n",
       "    <tr>\n",
       "      <th>2</th>\n",
       "      <td>NaN</td>\n",
       "      <td>3</td>\n",
       "    </tr>\n",
       "    <tr>\n",
       "      <th>3</th>\n",
       "      <td>NaN</td>\n",
       "      <td>4</td>\n",
       "    </tr>\n",
       "    <tr>\n",
       "      <th>4</th>\n",
       "      <td>NaN</td>\n",
       "      <td>5</td>\n",
       "    </tr>\n",
       "    <tr>\n",
       "      <th>...</th>\n",
       "      <td>...</td>\n",
       "      <td>...</td>\n",
       "    </tr>\n",
       "    <tr>\n",
       "      <th>943</th>\n",
       "      <td>NaN</td>\n",
       "      <td>4</td>\n",
       "    </tr>\n",
       "    <tr>\n",
       "      <th>944</th>\n",
       "      <td>สอนได้ละเอียดกระชับและชัดเจน เข้าใจได้ง่ายครับ...</td>\n",
       "      <td>5</td>\n",
       "    </tr>\n",
       "    <tr>\n",
       "      <th>945</th>\n",
       "      <td>NaN</td>\n",
       "      <td>5</td>\n",
       "    </tr>\n",
       "    <tr>\n",
       "      <th>946</th>\n",
       "      <td>ดีสุดๆเลยครับ</td>\n",
       "      <td>5</td>\n",
       "    </tr>\n",
       "    <tr>\n",
       "      <th>947</th>\n",
       "      <td>NaN</td>\n",
       "      <td>5</td>\n",
       "    </tr>\n",
       "  </tbody>\n",
       "</table>\n",
       "<p>948 rows × 2 columns</p>\n",
       "</div>"
      ],
      "text/plain": [
       "                                              comments  stars\n",
       "0                                                  NaN      5\n",
       "1                                                  NaN      5\n",
       "2                                                  NaN      3\n",
       "3                                                  NaN      4\n",
       "4                                                  NaN      5\n",
       "..                                                 ...    ...\n",
       "943                                                NaN      4\n",
       "944  สอนได้ละเอียดกระชับและชัดเจน เข้าใจได้ง่ายครับ...      5\n",
       "945                                                NaN      5\n",
       "946                                      ดีสุดๆเลยครับ      5\n",
       "947                                                NaN      5\n",
       "\n",
       "[948 rows x 2 columns]"
      ]
     },
     "execution_count": 3,
     "metadata": {},
     "output_type": "execute_result"
    }
   ],
   "source": [
    "clean_skilllane = skilllane[['comments','stars']]\n",
    "clean_skilllane"
   ]
  },
  {
   "cell_type": "code",
   "execution_count": 4,
   "metadata": {},
   "outputs": [
    {
     "data": {
      "text/plain": [
       "comments    827\n",
       "stars         0\n",
       "dtype: int64"
      ]
     },
     "execution_count": 4,
     "metadata": {},
     "output_type": "execute_result"
    }
   ],
   "source": [
    "clean_skilllane.isna().sum()"
   ]
  },
  {
   "cell_type": "code",
   "execution_count": 5,
   "metadata": {},
   "outputs": [
    {
     "data": {
      "text/html": [
       "<div>\n",
       "<style scoped>\n",
       "    .dataframe tbody tr th:only-of-type {\n",
       "        vertical-align: middle;\n",
       "    }\n",
       "\n",
       "    .dataframe tbody tr th {\n",
       "        vertical-align: top;\n",
       "    }\n",
       "\n",
       "    .dataframe thead th {\n",
       "        text-align: right;\n",
       "    }\n",
       "</style>\n",
       "<table border=\"1\" class=\"dataframe\">\n",
       "  <thead>\n",
       "    <tr style=\"text-align: right;\">\n",
       "      <th></th>\n",
       "      <th>comments</th>\n",
       "      <th>stars</th>\n",
       "    </tr>\n",
       "  </thead>\n",
       "  <tbody>\n",
       "    <tr>\n",
       "      <th>9</th>\n",
       "      <td>ได้ความรู้ดีมากค่ะ</td>\n",
       "      <td>5</td>\n",
       "    </tr>\n",
       "    <tr>\n",
       "      <th>23</th>\n",
       "      <td>5</td>\n",
       "      <td>5</td>\n",
       "    </tr>\n",
       "    <tr>\n",
       "      <th>34</th>\n",
       "      <td>น้ำเสียงคำพูดการสื่อสารชัดเจนเข้าใจง่ายดีมากครับ</td>\n",
       "      <td>5</td>\n",
       "    </tr>\n",
       "    <tr>\n",
       "      <th>40</th>\n",
       "      <td>ต้องการให้มีการบรรยายมากกว่า 1 ท่าน เพื่อให้ไม...</td>\n",
       "      <td>3</td>\n",
       "    </tr>\n",
       "    <tr>\n",
       "      <th>44</th>\n",
       "      <td>เยี่ยมครับ</td>\n",
       "      <td>5</td>\n",
       "    </tr>\n",
       "    <tr>\n",
       "      <th>...</th>\n",
       "      <td>...</td>\n",
       "      <td>...</td>\n",
       "    </tr>\n",
       "    <tr>\n",
       "      <th>923</th>\n",
       "      <td>Good</td>\n",
       "      <td>5</td>\n",
       "    </tr>\n",
       "    <tr>\n",
       "      <th>924</th>\n",
       "      <td>อันนี้รีวิว หลังจากดูจบแล้วครับ\\nเกรินก่อน ผมเ...</td>\n",
       "      <td>5</td>\n",
       "    </tr>\n",
       "    <tr>\n",
       "      <th>925</th>\n",
       "      <td>อ.บอย สอนได้ละเอียดมากครับ\\nแต่ถ้าเอาไปเขียนเอ...</td>\n",
       "      <td>5</td>\n",
       "    </tr>\n",
       "    <tr>\n",
       "      <th>944</th>\n",
       "      <td>สอนได้ละเอียดกระชับและชัดเจน เข้าใจได้ง่ายครับ...</td>\n",
       "      <td>5</td>\n",
       "    </tr>\n",
       "    <tr>\n",
       "      <th>946</th>\n",
       "      <td>ดีสุดๆเลยครับ</td>\n",
       "      <td>5</td>\n",
       "    </tr>\n",
       "  </tbody>\n",
       "</table>\n",
       "<p>121 rows × 2 columns</p>\n",
       "</div>"
      ],
      "text/plain": [
       "                                              comments  stars\n",
       "9                                   ได้ความรู้ดีมากค่ะ      5\n",
       "23                                                   5      5\n",
       "34    น้ำเสียงคำพูดการสื่อสารชัดเจนเข้าใจง่ายดีมากครับ      5\n",
       "40   ต้องการให้มีการบรรยายมากกว่า 1 ท่าน เพื่อให้ไม...      3\n",
       "44                                          เยี่ยมครับ      5\n",
       "..                                                 ...    ...\n",
       "923                                               Good      5\n",
       "924  อันนี้รีวิว หลังจากดูจบแล้วครับ\\nเกรินก่อน ผมเ...      5\n",
       "925  อ.บอย สอนได้ละเอียดมากครับ\\nแต่ถ้าเอาไปเขียนเอ...      5\n",
       "944  สอนได้ละเอียดกระชับและชัดเจน เข้าใจได้ง่ายครับ...      5\n",
       "946                                      ดีสุดๆเลยครับ      5\n",
       "\n",
       "[121 rows x 2 columns]"
      ]
     },
     "execution_count": 5,
     "metadata": {},
     "output_type": "execute_result"
    }
   ],
   "source": [
    "clean_skilllane = clean_skilllane.dropna()\n",
    "clean_skilllane"
   ]
  },
  {
   "cell_type": "code",
   "execution_count": 9,
   "metadata": {},
   "outputs": [
    {
     "name": "stderr",
     "output_type": "stream",
     "text": [
      "/var/folders/by/0rz3gnw148l6ch25mwf10xjc0000gn/T/ipykernel_7936/3765637619.py:1: SettingWithCopyWarning: \n",
      "A value is trying to be set on a copy of a slice from a DataFrame\n",
      "\n",
      "See the caveats in the documentation: https://pandas.pydata.org/pandas-docs/stable/user_guide/indexing.html#returning-a-view-versus-a-copy\n",
      "  clean_skilllane.drop_duplicates(inplace=True)\n"
     ]
    }
   ],
   "source": [
    "clean_skilllane.drop_duplicates(inplace=True)"
   ]
  },
  {
   "cell_type": "code",
   "execution_count": 11,
   "metadata": {},
   "outputs": [
    {
     "data": {
      "text/plain": [
       "<AxesSubplot: xlabel='stars', ylabel='count'>"
      ]
     },
     "execution_count": 11,
     "metadata": {},
     "output_type": "execute_result"
    },
    {
     "data": {
      "image/png": "[encoded data removed]",
      "text/plain": [
       "<Figure size 640x480 with 1 Axes>"
      ]
     },
     "metadata": {},
     "output_type": "display_data"
    }
   ],
   "source": [
    "sns.countplot(x=clean_skilllane['stars'])"
   ]
  },
  {
   "cell_type": "code",
   "execution_count": 12,
   "metadata": {},
   "outputs": [
    {
     "data": {
      "text/plain": [
       "5    92\n",
       "4     9\n",
       "3     8\n",
       "2     4\n",
       "1     2\n",
       "Name: stars, dtype: int64"
      ]
     },
     "execution_count": 12,
     "metadata": {},
     "output_type": "execute_result"
    }
   ],
   "source": [
    "clean_skilllane['stars'].value_counts()"
   ]
  },
  {
   "cell_type": "code",
   "execution_count": 13,
   "metadata": {},
   "outputs": [],
   "source": [
    "def stars_to_types(star):\n",
    "    if star >= 4:\n",
    "        return 'pos'\n",
    "    else:\n",
    "        return 'neg'"
   ]
  },
  {
   "cell_type": "code",
   "execution_count": 14,
   "metadata": {},
   "outputs": [
    {
     "name": "stderr",
     "output_type": "stream",
     "text": [
      "/var/folders/by/0rz3gnw148l6ch25mwf10xjc0000gn/T/ipykernel_7936/2804517043.py:1: SettingWithCopyWarning: \n",
      "A value is trying to be set on a copy of a slice from a DataFrame.\n",
      "Try using .loc[row_indexer,col_indexer] = value instead\n",
      "\n",
      "See the caveats in the documentation: https://pandas.pydata.org/pandas-docs/stable/user_guide/indexing.html#returning-a-view-versus-a-copy\n",
      "  clean_skilllane['target'] = clean_skilllane['stars'].apply(stars_to_types)\n"
     ]
    }
   ],
   "source": [
    "clean_skilllane['target'] = clean_skilllane['stars'].apply(stars_to_types)"
   ]
  },
  {
   "cell_type": "code",
   "execution_count": 15,
   "metadata": {},
   "outputs": [
    {
     "data": {
      "text/plain": [
       "<AxesSubplot: xlabel='target', ylabel='count'>"
      ]
     },
     "execution_count": 15,
     "metadata": {},
     "output_type": "execute_result"
    },
    {
     "data": {
      "image/png": "[encoded data removed]",
      "text/plain": [
       "<Figure size 640x480 with 1 Axes>"
      ]
     },
     "metadata": {},
     "output_type": "display_data"
    }
   ],
   "source": [
    "sns.countplot(x=clean_skilllane['target'])"
   ]
  },
  {
   "cell_type": "code",
   "execution_count": 16,
   "metadata": {},
   "outputs": [
    {
     "data": {
      "text/plain": [
       "Index(['comments', 'stars', 'target'], dtype='object')"
      ]
     },
     "execution_count": 16,
     "metadata": {},
     "output_type": "execute_result"
    }
   ],
   "source": [
    "clean_skilllane.columns"
   ]
  },
  {
   "cell_type": "code",
   "execution_count": 17,
   "metadata": {},
   "outputs": [
    {
     "data": {
      "text/html": [
       "<div>\n",
       "<style scoped>\n",
       "    .dataframe tbody tr th:only-of-type {\n",
       "        vertical-align: middle;\n",
       "    }\n",
       "\n",
       "    .dataframe tbody tr th {\n",
       "        vertical-align: top;\n",
       "    }\n",
       "\n",
       "    .dataframe thead th {\n",
       "        text-align: right;\n",
       "    }\n",
       "</style>\n",
       "<table border=\"1\" class=\"dataframe\">\n",
       "  <thead>\n",
       "    <tr style=\"text-align: right;\">\n",
       "      <th></th>\n",
       "      <th>comments</th>\n",
       "      <th>target</th>\n",
       "    </tr>\n",
       "  </thead>\n",
       "  <tbody>\n",
       "    <tr>\n",
       "      <th>9</th>\n",
       "      <td>ได้ความรู้ดีมากค่ะ</td>\n",
       "      <td>pos</td>\n",
       "    </tr>\n",
       "    <tr>\n",
       "      <th>23</th>\n",
       "      <td>5</td>\n",
       "      <td>pos</td>\n",
       "    </tr>\n",
       "    <tr>\n",
       "      <th>34</th>\n",
       "      <td>น้ำเสียงคำพูดการสื่อสารชัดเจนเข้าใจง่ายดีมากครับ</td>\n",
       "      <td>pos</td>\n",
       "    </tr>\n",
       "    <tr>\n",
       "      <th>40</th>\n",
       "      <td>ต้องการให้มีการบรรยายมากกว่า 1 ท่าน เพื่อให้ไม...</td>\n",
       "      <td>neg</td>\n",
       "    </tr>\n",
       "    <tr>\n",
       "      <th>44</th>\n",
       "      <td>เยี่ยมครับ</td>\n",
       "      <td>pos</td>\n",
       "    </tr>\n",
       "    <tr>\n",
       "      <th>...</th>\n",
       "      <td>...</td>\n",
       "      <td>...</td>\n",
       "    </tr>\n",
       "    <tr>\n",
       "      <th>919</th>\n",
       "      <td>เหมาะสมกับทั้งคนที่ยังไม่มีพื้นฐาน และคนที่อยา...</td>\n",
       "      <td>pos</td>\n",
       "    </tr>\n",
       "    <tr>\n",
       "      <th>924</th>\n",
       "      <td>อันนี้รีวิว หลังจากดูจบแล้วครับ\\nเกรินก่อน ผมเ...</td>\n",
       "      <td>pos</td>\n",
       "    </tr>\n",
       "    <tr>\n",
       "      <th>925</th>\n",
       "      <td>อ.บอย สอนได้ละเอียดมากครับ\\nแต่ถ้าเอาไปเขียนเอ...</td>\n",
       "      <td>pos</td>\n",
       "    </tr>\n",
       "    <tr>\n",
       "      <th>944</th>\n",
       "      <td>สอนได้ละเอียดกระชับและชัดเจน เข้าใจได้ง่ายครับ...</td>\n",
       "      <td>pos</td>\n",
       "    </tr>\n",
       "    <tr>\n",
       "      <th>946</th>\n",
       "      <td>ดีสุดๆเลยครับ</td>\n",
       "      <td>pos</td>\n",
       "    </tr>\n",
       "  </tbody>\n",
       "</table>\n",
       "<p>115 rows × 2 columns</p>\n",
       "</div>"
      ],
      "text/plain": [
       "                                              comments target\n",
       "9                                   ได้ความรู้ดีมากค่ะ    pos\n",
       "23                                                   5    pos\n",
       "34    น้ำเสียงคำพูดการสื่อสารชัดเจนเข้าใจง่ายดีมากครับ    pos\n",
       "40   ต้องการให้มีการบรรยายมากกว่า 1 ท่าน เพื่อให้ไม...    neg\n",
       "44                                          เยี่ยมครับ    pos\n",
       "..                                                 ...    ...\n",
       "919  เหมาะสมกับทั้งคนที่ยังไม่มีพื้นฐาน และคนที่อยา...    pos\n",
       "924  อันนี้รีวิว หลังจากดูจบแล้วครับ\\nเกรินก่อน ผมเ...    pos\n",
       "925  อ.บอย สอนได้ละเอียดมากครับ\\nแต่ถ้าเอาไปเขียนเอ...    pos\n",
       "944  สอนได้ละเอียดกระชับและชัดเจน เข้าใจได้ง่ายครับ...    pos\n",
       "946                                      ดีสุดๆเลยครับ    pos\n",
       "\n",
       "[115 rows x 2 columns]"
      ]
     },
     "execution_count": 17,
     "metadata": {},
     "output_type": "execute_result"
    }
   ],
   "source": [
    "df_skilllane = clean_skilllane.drop('stars', axis=1)\n",
    "df_skilllane"
   ]
  },
  {
   "cell_type": "code",
   "execution_count": 18,
   "metadata": {},
   "outputs": [
    {
     "data": {
      "text/html": [
       "<div>\n",
       "<style scoped>\n",
       "    .dataframe tbody tr th:only-of-type {\n",
       "        vertical-align: middle;\n",
       "    }\n",
       "\n",
       "    .dataframe tbody tr th {\n",
       "        vertical-align: top;\n",
       "    }\n",
       "\n",
       "    .dataframe thead th {\n",
       "        text-align: right;\n",
       "    }\n",
       "</style>\n",
       "<table border=\"1\" class=\"dataframe\">\n",
       "  <thead>\n",
       "    <tr style=\"text-align: right;\">\n",
       "      <th></th>\n",
       "      <th>review</th>\n",
       "      <th>star</th>\n",
       "    </tr>\n",
       "  </thead>\n",
       "  <tbody>\n",
       "    <tr>\n",
       "      <th>0</th>\n",
       "      <td>ดีค่ะ วิทยากรมีความรู้ดีมาก พูดเข้าใจ การสอนมี...</td>\n",
       "      <td>5 Stars</td>\n",
       "    </tr>\n",
       "    <tr>\n",
       "      <th>1</th>\n",
       "      <td>ดีครับ ดู practical, ไม่ลึกใน theory เกินไปและ...</td>\n",
       "      <td>5 Stars</td>\n",
       "    </tr>\n",
       "    <tr>\n",
       "      <th>2</th>\n",
       "      <td>ชอบมาก เหมาะสมหรับผู้ที่มีผู้ฐานเรื่องการตลาด ...</td>\n",
       "      <td>5 Stars</td>\n",
       "    </tr>\n",
       "    <tr>\n",
       "      <th>3</th>\n",
       "      <td>คอร์สเนื้อหาแน่น และผู้สอนก็สอนได้ละเอียด มีขั...</td>\n",
       "      <td>5 Stars</td>\n",
       "    </tr>\n",
       "    <tr>\n",
       "      <th>4</th>\n",
       "      <td>คอร์สนี้ช่วยให้หลักการและกรอบในการดำเนินงานด้า...</td>\n",
       "      <td>4 Stars</td>\n",
       "    </tr>\n",
       "    <tr>\n",
       "      <th>...</th>\n",
       "      <td>...</td>\n",
       "      <td>...</td>\n",
       "    </tr>\n",
       "    <tr>\n",
       "      <th>839</th>\n",
       "      <td>สนุกและมีประโยชน์มากค่ะ อาจารย์สอนเข้าใจง่าย ไ...</td>\n",
       "      <td>5 Stars</td>\n",
       "    </tr>\n",
       "    <tr>\n",
       "      <th>840</th>\n",
       "      <td>คอร์สเรียนเข้าใจง่ายมาก คนไม่มีพื้นฐานก็สามารถ...</td>\n",
       "      <td>5 Stars</td>\n",
       "    </tr>\n",
       "    <tr>\n",
       "      <th>841</th>\n",
       "      <td>แนะนำเลย สำหรับคนที่สนใจการวิเคราะห์ข้อมูล</td>\n",
       "      <td>5 Stars</td>\n",
       "    </tr>\n",
       "    <tr>\n",
       "      <th>842</th>\n",
       "      <td>ใช้งานง่าน ทำได้จริงง</td>\n",
       "      <td>5 Stars</td>\n",
       "    </tr>\n",
       "    <tr>\n",
       "      <th>843</th>\n",
       "      <td>very good</td>\n",
       "      <td>5 Stars</td>\n",
       "    </tr>\n",
       "  </tbody>\n",
       "</table>\n",
       "<p>844 rows × 2 columns</p>\n",
       "</div>"
      ],
      "text/plain": [
       "                                                review     star\n",
       "0    ดีค่ะ วิทยากรมีความรู้ดีมาก พูดเข้าใจ การสอนมี...  5 Stars\n",
       "1    ดีครับ ดู practical, ไม่ลึกใน theory เกินไปและ...  5 Stars\n",
       "2    ชอบมาก เหมาะสมหรับผู้ที่มีผู้ฐานเรื่องการตลาด ...  5 Stars\n",
       "3    คอร์สเนื้อหาแน่น และผู้สอนก็สอนได้ละเอียด มีขั...  5 Stars\n",
       "4    คอร์สนี้ช่วยให้หลักการและกรอบในการดำเนินงานด้า...  4 Stars\n",
       "..                                                 ...      ...\n",
       "839  สนุกและมีประโยชน์มากค่ะ อาจารย์สอนเข้าใจง่าย ไ...  5 Stars\n",
       "840  คอร์สเรียนเข้าใจง่ายมาก คนไม่มีพื้นฐานก็สามารถ...  5 Stars\n",
       "841         แนะนำเลย สำหรับคนที่สนใจการวิเคราะห์ข้อมูล  5 Stars\n",
       "842                              ใช้งานง่าน ทำได้จริงง  5 Stars\n",
       "843                                          very good  5 Stars\n",
       "\n",
       "[844 rows x 2 columns]"
      ]
     },
     "execution_count": 18,
     "metadata": {},
     "output_type": "execute_result"
    }
   ],
   "source": [
    "clean_skooldio = skooldio[['review','star']]\n",
    "clean_skooldio"
   ]
  },
  {
   "cell_type": "code",
   "execution_count": 20,
   "metadata": {},
   "outputs": [
    {
     "data": {
      "text/html": [
       "<div>\n",
       "<style scoped>\n",
       "    .dataframe tbody tr th:only-of-type {\n",
       "        vertical-align: middle;\n",
       "    }\n",
       "\n",
       "    .dataframe tbody tr th {\n",
       "        vertical-align: top;\n",
       "    }\n",
       "\n",
       "    .dataframe thead th {\n",
       "        text-align: right;\n",
       "    }\n",
       "</style>\n",
       "<table border=\"1\" class=\"dataframe\">\n",
       "  <thead>\n",
       "    <tr style=\"text-align: right;\">\n",
       "      <th></th>\n",
       "      <th>review</th>\n",
       "      <th>star</th>\n",
       "    </tr>\n",
       "  </thead>\n",
       "  <tbody>\n",
       "    <tr>\n",
       "      <th>0</th>\n",
       "      <td>ดีค่ะ วิทยากรมีความรู้ดีมาก พูดเข้าใจ การสอนมี...</td>\n",
       "      <td>5 Stars</td>\n",
       "    </tr>\n",
       "    <tr>\n",
       "      <th>1</th>\n",
       "      <td>ดีครับ ดู practical, ไม่ลึกใน theory เกินไปและ...</td>\n",
       "      <td>5 Stars</td>\n",
       "    </tr>\n",
       "    <tr>\n",
       "      <th>2</th>\n",
       "      <td>ชอบมาก เหมาะสมหรับผู้ที่มีผู้ฐานเรื่องการตลาด ...</td>\n",
       "      <td>5 Stars</td>\n",
       "    </tr>\n",
       "    <tr>\n",
       "      <th>3</th>\n",
       "      <td>คอร์สเนื้อหาแน่น และผู้สอนก็สอนได้ละเอียด มีขั...</td>\n",
       "      <td>5 Stars</td>\n",
       "    </tr>\n",
       "    <tr>\n",
       "      <th>4</th>\n",
       "      <td>คอร์สนี้ช่วยให้หลักการและกรอบในการดำเนินงานด้า...</td>\n",
       "      <td>4 Stars</td>\n",
       "    </tr>\n",
       "    <tr>\n",
       "      <th>...</th>\n",
       "      <td>...</td>\n",
       "      <td>...</td>\n",
       "    </tr>\n",
       "    <tr>\n",
       "      <th>839</th>\n",
       "      <td>สนุกและมีประโยชน์มากค่ะ อาจารย์สอนเข้าใจง่าย ไ...</td>\n",
       "      <td>5 Stars</td>\n",
       "    </tr>\n",
       "    <tr>\n",
       "      <th>840</th>\n",
       "      <td>คอร์สเรียนเข้าใจง่ายมาก คนไม่มีพื้นฐานก็สามารถ...</td>\n",
       "      <td>5 Stars</td>\n",
       "    </tr>\n",
       "    <tr>\n",
       "      <th>841</th>\n",
       "      <td>แนะนำเลย สำหรับคนที่สนใจการวิเคราะห์ข้อมูล</td>\n",
       "      <td>5 Stars</td>\n",
       "    </tr>\n",
       "    <tr>\n",
       "      <th>842</th>\n",
       "      <td>ใช้งานง่าน ทำได้จริงง</td>\n",
       "      <td>5 Stars</td>\n",
       "    </tr>\n",
       "    <tr>\n",
       "      <th>843</th>\n",
       "      <td>very good</td>\n",
       "      <td>5 Stars</td>\n",
       "    </tr>\n",
       "  </tbody>\n",
       "</table>\n",
       "<p>803 rows × 2 columns</p>\n",
       "</div>"
      ],
      "text/plain": [
       "                                                review     star\n",
       "0    ดีค่ะ วิทยากรมีความรู้ดีมาก พูดเข้าใจ การสอนมี...  5 Stars\n",
       "1    ดีครับ ดู practical, ไม่ลึกใน theory เกินไปและ...  5 Stars\n",
       "2    ชอบมาก เหมาะสมหรับผู้ที่มีผู้ฐานเรื่องการตลาด ...  5 Stars\n",
       "3    คอร์สเนื้อหาแน่น และผู้สอนก็สอนได้ละเอียด มีขั...  5 Stars\n",
       "4    คอร์สนี้ช่วยให้หลักการและกรอบในการดำเนินงานด้า...  4 Stars\n",
       "..                                                 ...      ...\n",
       "839  สนุกและมีประโยชน์มากค่ะ อาจารย์สอนเข้าใจง่าย ไ...  5 Stars\n",
       "840  คอร์สเรียนเข้าใจง่ายมาก คนไม่มีพื้นฐานก็สามารถ...  5 Stars\n",
       "841         แนะนำเลย สำหรับคนที่สนใจการวิเคราะห์ข้อมูล  5 Stars\n",
       "842                              ใช้งานง่าน ทำได้จริงง  5 Stars\n",
       "843                                          very good  5 Stars\n",
       "\n",
       "[803 rows x 2 columns]"
      ]
     },
     "execution_count": 20,
     "metadata": {},
     "output_type": "execute_result"
    }
   ],
   "source": [
    "clean_skooldio = clean_skooldio.dropna()\n",
    "clean_skooldio.drop_duplicates(inplace=True)\n",
    "clean_skooldio"
   ]
  },
  {
   "cell_type": "code",
   "execution_count": 21,
   "metadata": {},
   "outputs": [
    {
     "name": "stderr",
     "output_type": "stream",
     "text": [
      "/var/folders/by/0rz3gnw148l6ch25mwf10xjc0000gn/T/ipykernel_7936/2321439048.py:1: FutureWarning: The default value of regex will change from True to False in a future version.\n",
      "  clean_skooldio['star'] = clean_skooldio['star'].str.replace('[Stars]','').astype(int)\n"
     ]
    }
   ],
   "source": [
    "clean_skooldio['star'] = clean_skooldio['star'].str.replace('[Stars]','').astype(int)"
   ]
  },
  {
   "cell_type": "code",
   "execution_count": 22,
   "metadata": {},
   "outputs": [
    {
     "data": {
      "text/plain": [
       "review    object\n",
       "star       int64\n",
       "dtype: object"
      ]
     },
     "execution_count": 22,
     "metadata": {},
     "output_type": "execute_result"
    }
   ],
   "source": [
    "clean_skooldio.dtypes"
   ]
  },
  {
   "cell_type": "code",
   "execution_count": 23,
   "metadata": {},
   "outputs": [],
   "source": [
    "clean_skooldio['target'] = clean_skooldio['star'].apply(stars_to_types)"
   ]
  },
  {
   "cell_type": "code",
   "execution_count": 24,
   "metadata": {},
   "outputs": [],
   "source": [
    "clean_skooldio = clean_skooldio.rename(columns={'review': 'comments'})"
   ]
  },
  {
   "cell_type": "code",
   "execution_count": 25,
   "metadata": {},
   "outputs": [
    {
     "data": {
      "text/plain": [
       "<AxesSubplot: xlabel='star', ylabel='count'>"
      ]
     },
     "execution_count": 25,
     "metadata": {},
     "output_type": "execute_result"
    },
    {
     "data": {
      "image/png": "[encoded data removed]",
      "text/plain": [
       "<Figure size 640x480 with 1 Axes>"
      ]
     },
     "metadata": {},
     "output_type": "display_data"
    }
   ],
   "source": [
    "sns.countplot(x=clean_skooldio['star'])"
   ]
  },
  {
   "cell_type": "code",
   "execution_count": 26,
   "metadata": {},
   "outputs": [
    {
     "data": {
      "text/plain": [
       "<AxesSubplot: xlabel='target', ylabel='count'>"
      ]
     },
     "execution_count": 26,
     "metadata": {},
     "output_type": "execute_result"
    },
    {
     "data": {
      "image/png": "[encoded data removed]",
      "text/plain": [
       "<Figure size 640x480 with 1 Axes>"
      ]
     },
     "metadata": {},
     "output_type": "display_data"
    }
   ],
   "source": [
    "sns.countplot(x=clean_skooldio['target'])"
   ]
  },
  {
   "cell_type": "code",
   "execution_count": 27,
   "metadata": {},
   "outputs": [
    {
     "data": {
      "text/html": [
       "<div>\n",
       "<style scoped>\n",
       "    .dataframe tbody tr th:only-of-type {\n",
       "        vertical-align: middle;\n",
       "    }\n",
       "\n",
       "    .dataframe tbody tr th {\n",
       "        vertical-align: top;\n",
       "    }\n",
       "\n",
       "    .dataframe thead th {\n",
       "        text-align: right;\n",
       "    }\n",
       "</style>\n",
       "<table border=\"1\" class=\"dataframe\">\n",
       "  <thead>\n",
       "    <tr style=\"text-align: right;\">\n",
       "      <th></th>\n",
       "      <th>comments</th>\n",
       "      <th>target</th>\n",
       "    </tr>\n",
       "  </thead>\n",
       "  <tbody>\n",
       "    <tr>\n",
       "      <th>0</th>\n",
       "      <td>ดีค่ะ วิทยากรมีความรู้ดีมาก พูดเข้าใจ การสอนมี...</td>\n",
       "      <td>pos</td>\n",
       "    </tr>\n",
       "    <tr>\n",
       "      <th>1</th>\n",
       "      <td>ดีครับ ดู practical, ไม่ลึกใน theory เกินไปและ...</td>\n",
       "      <td>pos</td>\n",
       "    </tr>\n",
       "    <tr>\n",
       "      <th>2</th>\n",
       "      <td>ชอบมาก เหมาะสมหรับผู้ที่มีผู้ฐานเรื่องการตลาด ...</td>\n",
       "      <td>pos</td>\n",
       "    </tr>\n",
       "    <tr>\n",
       "      <th>3</th>\n",
       "      <td>คอร์สเนื้อหาแน่น และผู้สอนก็สอนได้ละเอียด มีขั...</td>\n",
       "      <td>pos</td>\n",
       "    </tr>\n",
       "    <tr>\n",
       "      <th>4</th>\n",
       "      <td>คอร์สนี้ช่วยให้หลักการและกรอบในการดำเนินงานด้า...</td>\n",
       "      <td>pos</td>\n",
       "    </tr>\n",
       "    <tr>\n",
       "      <th>...</th>\n",
       "      <td>...</td>\n",
       "      <td>...</td>\n",
       "    </tr>\n",
       "    <tr>\n",
       "      <th>839</th>\n",
       "      <td>สนุกและมีประโยชน์มากค่ะ อาจารย์สอนเข้าใจง่าย ไ...</td>\n",
       "      <td>pos</td>\n",
       "    </tr>\n",
       "    <tr>\n",
       "      <th>840</th>\n",
       "      <td>คอร์สเรียนเข้าใจง่ายมาก คนไม่มีพื้นฐานก็สามารถ...</td>\n",
       "      <td>pos</td>\n",
       "    </tr>\n",
       "    <tr>\n",
       "      <th>841</th>\n",
       "      <td>แนะนำเลย สำหรับคนที่สนใจการวิเคราะห์ข้อมูล</td>\n",
       "      <td>pos</td>\n",
       "    </tr>\n",
       "    <tr>\n",
       "      <th>842</th>\n",
       "      <td>ใช้งานง่าน ทำได้จริงง</td>\n",
       "      <td>pos</td>\n",
       "    </tr>\n",
       "    <tr>\n",
       "      <th>843</th>\n",
       "      <td>very good</td>\n",
       "      <td>pos</td>\n",
       "    </tr>\n",
       "  </tbody>\n",
       "</table>\n",
       "<p>803 rows × 2 columns</p>\n",
       "</div>"
      ],
      "text/plain": [
       "                                              comments target\n",
       "0    ดีค่ะ วิทยากรมีความรู้ดีมาก พูดเข้าใจ การสอนมี...    pos\n",
       "1    ดีครับ ดู practical, ไม่ลึกใน theory เกินไปและ...    pos\n",
       "2    ชอบมาก เหมาะสมหรับผู้ที่มีผู้ฐานเรื่องการตลาด ...    pos\n",
       "3    คอร์สเนื้อหาแน่น และผู้สอนก็สอนได้ละเอียด มีขั...    pos\n",
       "4    คอร์สนี้ช่วยให้หลักการและกรอบในการดำเนินงานด้า...    pos\n",
       "..                                                 ...    ...\n",
       "839  สนุกและมีประโยชน์มากค่ะ อาจารย์สอนเข้าใจง่าย ไ...    pos\n",
       "840  คอร์สเรียนเข้าใจง่ายมาก คนไม่มีพื้นฐานก็สามารถ...    pos\n",
       "841         แนะนำเลย สำหรับคนที่สนใจการวิเคราะห์ข้อมูล    pos\n",
       "842                              ใช้งานง่าน ทำได้จริงง    pos\n",
       "843                                          very good    pos\n",
       "\n",
       "[803 rows x 2 columns]"
      ]
     },
     "execution_count": 27,
     "metadata": {},
     "output_type": "execute_result"
    }
   ],
   "source": [
    "df_skooldio = clean_skooldio.drop('star', axis=1)\n",
    "df_skooldio"
   ]
  },
  {
   "cell_type": "code",
   "execution_count": 28,
   "metadata": {},
   "outputs": [],
   "source": [
    "df = pd.concat([df_skooldio,df_skilllane])\n"
   ]
  },
  {
   "cell_type": "code",
   "execution_count": 29,
   "metadata": {},
   "outputs": [
    {
     "data": {
      "text/html": [
       "<div>\n",
       "<style scoped>\n",
       "    .dataframe tbody tr th:only-of-type {\n",
       "        vertical-align: middle;\n",
       "    }\n",
       "\n",
       "    .dataframe tbody tr th {\n",
       "        vertical-align: top;\n",
       "    }\n",
       "\n",
       "    .dataframe thead th {\n",
       "        text-align: right;\n",
       "    }\n",
       "</style>\n",
       "<table border=\"1\" class=\"dataframe\">\n",
       "  <thead>\n",
       "    <tr style=\"text-align: right;\">\n",
       "      <th></th>\n",
       "      <th>comments</th>\n",
       "      <th>target</th>\n",
       "    </tr>\n",
       "  </thead>\n",
       "  <tbody>\n",
       "    <tr>\n",
       "      <th>0</th>\n",
       "      <td>ดีค่ะ วิทยากรมีความรู้ดีมาก พูดเข้าใจ การสอนมี...</td>\n",
       "      <td>pos</td>\n",
       "    </tr>\n",
       "    <tr>\n",
       "      <th>1</th>\n",
       "      <td>ชอบมาก เหมาะสมหรับผู้ที่มีผู้ฐานเรื่องการตลาด ...</td>\n",
       "      <td>pos</td>\n",
       "    </tr>\n",
       "    <tr>\n",
       "      <th>2</th>\n",
       "      <td>คอร์สเนื้อหาแน่น และผู้สอนก็สอนได้ละเอียด มีขั...</td>\n",
       "      <td>pos</td>\n",
       "    </tr>\n",
       "    <tr>\n",
       "      <th>3</th>\n",
       "      <td>คอร์สนี้ช่วยให้หลักการและกรอบในการดำเนินงานด้า...</td>\n",
       "      <td>pos</td>\n",
       "    </tr>\n",
       "    <tr>\n",
       "      <th>4</th>\n",
       "      <td>สอนแบบมี Logic และ วิธีการที่ชัดเจน ชอบมากค่ะ</td>\n",
       "      <td>pos</td>\n",
       "    </tr>\n",
       "    <tr>\n",
       "      <th>...</th>\n",
       "      <td>...</td>\n",
       "      <td>...</td>\n",
       "    </tr>\n",
       "    <tr>\n",
       "      <th>884</th>\n",
       "      <td>เหมาะสมกับทั้งคนที่ยังไม่มีพื้นฐาน และคนที่อยา...</td>\n",
       "      <td>pos</td>\n",
       "    </tr>\n",
       "    <tr>\n",
       "      <th>885</th>\n",
       "      <td>อันนี้รีวิว หลังจากดูจบแล้วครับ\\nเกรินก่อน ผมเ...</td>\n",
       "      <td>pos</td>\n",
       "    </tr>\n",
       "    <tr>\n",
       "      <th>886</th>\n",
       "      <td>อ.บอย สอนได้ละเอียดมากครับ\\nแต่ถ้าเอาไปเขียนเอ...</td>\n",
       "      <td>pos</td>\n",
       "    </tr>\n",
       "    <tr>\n",
       "      <th>887</th>\n",
       "      <td>สอนได้ละเอียดกระชับและชัดเจน เข้าใจได้ง่ายครับ...</td>\n",
       "      <td>pos</td>\n",
       "    </tr>\n",
       "    <tr>\n",
       "      <th>888</th>\n",
       "      <td>ดีสุดๆเลยครับ</td>\n",
       "      <td>pos</td>\n",
       "    </tr>\n",
       "  </tbody>\n",
       "</table>\n",
       "<p>889 rows × 2 columns</p>\n",
       "</div>"
      ],
      "text/plain": [
       "                                              comments target\n",
       "0    ดีค่ะ วิทยากรมีความรู้ดีมาก พูดเข้าใจ การสอนมี...    pos\n",
       "1    ชอบมาก เหมาะสมหรับผู้ที่มีผู้ฐานเรื่องการตลาด ...    pos\n",
       "2    คอร์สเนื้อหาแน่น และผู้สอนก็สอนได้ละเอียด มีขั...    pos\n",
       "3    คอร์สนี้ช่วยให้หลักการและกรอบในการดำเนินงานด้า...    pos\n",
       "4        สอนแบบมี Logic และ วิธีการที่ชัดเจน ชอบมากค่ะ    pos\n",
       "..                                                 ...    ...\n",
       "884  เหมาะสมกับทั้งคนที่ยังไม่มีพื้นฐาน และคนที่อยา...    pos\n",
       "885  อันนี้รีวิว หลังจากดูจบแล้วครับ\\nเกรินก่อน ผมเ...    pos\n",
       "886  อ.บอย สอนได้ละเอียดมากครับ\\nแต่ถ้าเอาไปเขียนเอ...    pos\n",
       "887  สอนได้ละเอียดกระชับและชัดเจน เข้าใจได้ง่ายครับ...    pos\n",
       "888                                      ดีสุดๆเลยครับ    pos\n",
       "\n",
       "[889 rows x 2 columns]"
      ]
     },
     "execution_count": 29,
     "metadata": {},
     "output_type": "execute_result"
    }
   ],
   "source": [
    "df = df[df['comments'].str.contains('-') == False]\n",
    "df.reset_index(drop=True, inplace=True)\n",
    "df"
   ]
  },
  {
   "cell_type": "code",
   "execution_count": 30,
   "metadata": {},
   "outputs": [
    {
     "name": "stdout",
     "output_type": "stream",
     "text": [
      "pos    0.887514\n",
      "neg    0.112486\n",
      "Name: target, dtype: float64\n"
     ]
    },
    {
     "data": {
      "image/png": "[encoded data removed]",
      "text/plain": [
       "<Figure size 640x480 with 1 Axes>"
      ]
     },
     "metadata": {},
     "output_type": "display_data"
    }
   ],
   "source": [
    "sns.countplot(x=df['target'])\n",
    "print(df['target'].value_counts()/df.shape[0])"
   ]
  },
  {
   "cell_type": "code",
   "execution_count": 31,
   "metadata": {},
   "outputs": [],
   "source": [
    "df.to_csv('sentiment_analysis.csv')"
   ]
  },
  {
   "cell_type": "code",
   "execution_count": null,
   "metadata": {},
   "outputs": [],
   "source": [
    "#shopee = pd.read_csv('shopee_xiaomi.csv')"
   ]
  },
  {
   "cell_type": "code",
   "execution_count": null,
   "metadata": {},
   "outputs": [],
   "source": [
    "#shopee"
   ]
  },
  {
   "cell_type": "code",
   "execution_count": null,
   "metadata": {},
   "outputs": [],
   "source": [
    "#clean_shopee = shopee[['comment','star']]\n",
    "#clean_shopee"
   ]
  },
  {
   "cell_type": "code",
   "execution_count": null,
   "metadata": {},
   "outputs": [],
   "source": [
    "#clean_shopee['star'] = clean_shopee['star'].str.replace('[ดาว]','').astype(int)"
   ]
  },
  {
   "cell_type": "code",
   "execution_count": null,
   "metadata": {},
   "outputs": [],
   "source": [
    "#sns.countplot(x=clean_shopee['star'])\n"
   ]
  },
  {
   "cell_type": "code",
   "execution_count": null,
   "metadata": {},
   "outputs": [],
   "source": [
    "#clean_shopee['target'] = clean_shopee['star'].apply(stars_to_types)"
   ]
  },
  {
   "cell_type": "code",
   "execution_count": null,
   "metadata": {},
   "outputs": [],
   "source": [
    "#sns.countplot(x=clean_shopee['target'])"
   ]
  },
  {
   "cell_type": "code",
   "execution_count": null,
   "metadata": {},
   "outputs": [],
   "source": [
    "#clean_shopee['target'].value_counts()"
   ]
  },
  {
   "cell_type": "code",
   "execution_count": null,
   "metadata": {},
   "outputs": [],
   "source": [
    "#peat = pd.read_csv('EIEI.csv')"
   ]
  },
  {
   "cell_type": "code",
   "execution_count": null,
   "metadata": {},
   "outputs": [],
   "source": [
    "#peat['target'] = peat['star'].apply(stars_to_types)"
   ]
  },
  {
   "cell_type": "code",
   "execution_count": null,
   "metadata": {},
   "outputs": [],
   "source": [
    "#df_new = pd.concat([peat,clean_shopee])\n",
    "#df_new = df_new.drop('star', axis=1)"
   ]
  },
  {
   "cell_type": "code",
   "execution_count": null,
   "metadata": {},
   "outputs": [],
   "source": [
    "#df_new['target'].value_counts()"
   ]
  },
  {
   "cell_type": "code",
   "execution_count": null,
   "metadata": {},
   "outputs": [],
   "source": [
    "#sns.countplot(x=df_new['target'])"
   ]
  },
  {
   "cell_type": "code",
   "execution_count": null,
   "metadata": {},
   "outputs": [],
   "source": [
    "#df_new.to_csv('shopee.csv')"
   ]
  },
  {
   "cell_type": "code",
   "execution_count": null,
   "metadata": {},
   "outputs": [],
   "source": []
  }
 ],
 "metadata": {
  "kernelspec": {
   "display_name": "Python 3.9.13",
   "language": "python",
   "name": "python3"
  },
  "language_info": {
   "codemirror_mode": {
    "name": "ipython",
    "version": 3
   },
   "file_extension": ".py",
   "mimetype": "text/x-python",
   "name": "python",
   "nbconvert_exporter": "python",
   "pygments_lexer": "ipython3",
   "version": "3.9.13"
  },
  "orig_nbformat": 4,
  "vscode": {
   "interpreter": {
    "hash": "d899c9fec2b22425c6623c63b9cd571dbfd76e0dcce4f1e93e6a00d67627429f"
   }
  }
 },
 "nbformat": 4,
 "nbformat_minor": 2
}
